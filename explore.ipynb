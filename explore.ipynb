{
 "cells": [
  {
   "cell_type": "code",
   "execution_count": 3,
   "metadata": {},
   "outputs": [],
   "source": [
    "import pandas as pd"
   ]
  },
  {
   "cell_type": "code",
   "execution_count": 4,
   "metadata": {},
   "outputs": [],
   "source": [
    "import json"
   ]
  },
  {
   "cell_type": "code",
   "execution_count": 5,
   "metadata": {},
   "outputs": [
    {
     "data": {
      "text/plain": [
       "'1.1.4'"
      ]
     },
     "execution_count": 5,
     "metadata": {},
     "output_type": "execute_result"
    }
   ],
   "source": [
    "pd.__version__"
   ]
  },
  {
   "cell_type": "code",
   "execution_count": 6,
   "metadata": {},
   "outputs": [],
   "source": [
    "df = pd.read_csv('iacr.csv')"
   ]
  },
  {
   "cell_type": "code",
   "execution_count": 7,
   "metadata": {},
   "outputs": [
    {
     "data": {
      "text/html": [
       "<div>\n",
       "<style scoped>\n",
       "    .dataframe tbody tr th:only-of-type {\n",
       "        vertical-align: middle;\n",
       "    }\n",
       "\n",
       "    .dataframe tbody tr th {\n",
       "        vertical-align: top;\n",
       "    }\n",
       "\n",
       "    .dataframe thead th {\n",
       "        text-align: right;\n",
       "    }\n",
       "</style>\n",
       "<table border=\"1\" class=\"dataframe\">\n",
       "  <thead>\n",
       "    <tr style=\"text-align: right;\">\n",
       "      <th></th>\n",
       "      <th>web-scraper-order</th>\n",
       "      <th>web-scraper-start-url</th>\n",
       "      <th>article</th>\n",
       "      <th>article-href</th>\n",
       "      <th>title</th>\n",
       "      <th>authors</th>\n",
       "      <th>body</th>\n",
       "    </tr>\n",
       "  </thead>\n",
       "  <tbody>\n",
       "    <tr>\n",
       "      <th>0</th>\n",
       "      <td>1604473310-14182</td>\n",
       "      <td>https://eprint.iacr.org/2005</td>\n",
       "      <td>2005/158</td>\n",
       "      <td>https://eprint.iacr.org/2005/158</td>\n",
       "      <td>Geometric  Cryptosystem</td>\n",
       "      <td>Arkady  Berenstein    and  Leon  Chernyak</td>\n",
       "      <td>[{\"body\":\"Abstract: In  this  paper  we  propo...</td>\n",
       "    </tr>\n",
       "    <tr>\n",
       "      <th>1</th>\n",
       "      <td>1604475645-15233</td>\n",
       "      <td>https://eprint.iacr.org/2002</td>\n",
       "      <td>2002/100</td>\n",
       "      <td>https://eprint.iacr.org/2002/100</td>\n",
       "      <td>Encryption-Scheme  Security  in  the  Presence...</td>\n",
       "      <td>J.  Black   and  P.  Rogaway   and  T.  Shrimpton</td>\n",
       "      <td>[{\"body\":\"Abstract: Encryption  that  is  only...</td>\n",
       "    </tr>\n",
       "    <tr>\n",
       "      <th>2</th>\n",
       "      <td>1604456951-6776</td>\n",
       "      <td>https://eprint.iacr.org/2015</td>\n",
       "      <td>2015/175</td>\n",
       "      <td>https://eprint.iacr.org/2015/175</td>\n",
       "      <td>Trivial  Nonce-Misusing  Attack  on  Pure  OMD</td>\n",
       "      <td>Tomer  Ashur   and  Bart  Mennink</td>\n",
       "      <td>[{\"body\":\"Abstract: Pure  OMD  is  an  authent...</td>\n",
       "    </tr>\n",
       "    <tr>\n",
       "      <th>3</th>\n",
       "      <td>1604468473-11994</td>\n",
       "      <td>https://eprint.iacr.org/2009</td>\n",
       "      <td>2009/120</td>\n",
       "      <td>https://eprint.iacr.org/2009/120</td>\n",
       "      <td>On  the  Complexity  of  Khovratovich  et.al's...</td>\n",
       "      <td>Danilo  Gligoroski   and  Rune  Steinsmo  Ø de...</td>\n",
       "      <td>[{\"body\":\"Abstract: Based  on  the  analysis  ...</td>\n",
       "    </tr>\n",
       "    <tr>\n",
       "      <th>4</th>\n",
       "      <td>1604471084-13176</td>\n",
       "      <td>https://eprint.iacr.org/2007</td>\n",
       "      <td>2007/119</td>\n",
       "      <td>https://eprint.iacr.org/2007/119</td>\n",
       "      <td>Rerandomizable  RCCA  Encryption</td>\n",
       "      <td>Manoj  Prabhakaran   and  Mike  Rosulek</td>\n",
       "      <td>[{\"body\":\"Abstract: We  give  the  first  perf...</td>\n",
       "    </tr>\n",
       "  </tbody>\n",
       "</table>\n",
       "</div>"
      ],
      "text/plain": [
       "  web-scraper-order         web-scraper-start-url   article  \\\n",
       "0  1604473310-14182  https://eprint.iacr.org/2005  2005/158   \n",
       "1  1604475645-15233  https://eprint.iacr.org/2002  2002/100   \n",
       "2   1604456951-6776  https://eprint.iacr.org/2015  2015/175   \n",
       "3  1604468473-11994  https://eprint.iacr.org/2009  2009/120   \n",
       "4  1604471084-13176  https://eprint.iacr.org/2007  2007/119   \n",
       "\n",
       "                       article-href  \\\n",
       "0  https://eprint.iacr.org/2005/158   \n",
       "1  https://eprint.iacr.org/2002/100   \n",
       "2  https://eprint.iacr.org/2015/175   \n",
       "3  https://eprint.iacr.org/2009/120   \n",
       "4  https://eprint.iacr.org/2007/119   \n",
       "\n",
       "                                               title  \\\n",
       "0                            Geometric  Cryptosystem   \n",
       "1  Encryption-Scheme  Security  in  the  Presence...   \n",
       "2     Trivial  Nonce-Misusing  Attack  on  Pure  OMD   \n",
       "3  On  the  Complexity  of  Khovratovich  et.al's...   \n",
       "4                   Rerandomizable  RCCA  Encryption   \n",
       "\n",
       "                                             authors  \\\n",
       "0          Arkady  Berenstein    and  Leon  Chernyak   \n",
       "1  J.  Black   and  P.  Rogaway   and  T.  Shrimpton   \n",
       "2                  Tomer  Ashur   and  Bart  Mennink   \n",
       "3  Danilo  Gligoroski   and  Rune  Steinsmo  Ø de...   \n",
       "4            Manoj  Prabhakaran   and  Mike  Rosulek   \n",
       "\n",
       "                                                body  \n",
       "0  [{\"body\":\"Abstract: In  this  paper  we  propo...  \n",
       "1  [{\"body\":\"Abstract: Encryption  that  is  only...  \n",
       "2  [{\"body\":\"Abstract: Pure  OMD  is  an  authent...  \n",
       "3  [{\"body\":\"Abstract: Based  on  the  analysis  ...  \n",
       "4  [{\"body\":\"Abstract: We  give  the  first  perf...  "
      ]
     },
     "execution_count": 7,
     "metadata": {},
     "output_type": "execute_result"
    }
   ],
   "source": [
    "df.head()"
   ]
  },
  {
   "cell_type": "code",
   "execution_count": 8,
   "metadata": {},
   "outputs": [],
   "source": [
    "articles = df.drop(['web-scraper-order', 'web-scraper-start-url', 'article'], axis=1)"
   ]
  },
  {
   "cell_type": "code",
   "execution_count": 9,
   "metadata": {},
   "outputs": [
    {
     "data": {
      "text/plain": [
       "'[{\"body\":\"Abstract: In  this  paper  we  propose  a  new  class  of  cryptosystems  that  utilizes  metric  continuity.  The  geometric  cryptosystem  considered  in  this  paper  as  the  main  example  of  metric  cryptosystems  has  a  number  of  interesting  properties  such  as  resistance  to  several  basic  cryptographic  attacks,  efficiency   and  detection  of  transmission  errors.\"},{\"body\":\"Category / Keywords: foundations /\"},{\"body\":\"Date: received 16 May 2005\"},{\"body\":\"Contact author: arkadiy at math uoregon edu\"},{\"body\":\"Available format(s): PDF  | BibTeX Citation\"},{\"body\":\"Note: 28 pages\"},{\"body\":\"Version: 20050529:213209 (All versions of this report)\"},{\"body\":\"Short URL: ia.cr/2005/158\"},{\"body\":\"\"}]'"
      ]
     },
     "execution_count": 9,
     "metadata": {},
     "output_type": "execute_result"
    }
   ],
   "source": [
    "articles['body'][0]"
   ]
  },
  {
   "cell_type": "code",
   "execution_count": 10,
   "metadata": {},
   "outputs": [],
   "source": [
    "def get_keywords(body):\n",
    "    prefix = \"Category / Keywords: \"\n",
    "    for item in body:\n",
    "        if item[\"body\"].startswith(prefix):\n",
    "            return item[\"body\"][len(prefix):].strip()\n",
    "    return \"Not found\""
   ]
  },
  {
   "cell_type": "code",
   "execution_count": 12,
   "metadata": {},
   "outputs": [
    {
     "data": {
      "text/plain": [
       "'foundations /'"
      ]
     },
     "execution_count": 12,
     "metadata": {},
     "output_type": "execute_result"
    }
   ],
   "source": [
    "body = json.loads(articles['body'][0])\n",
    "get_keywords(body)"
   ]
  },
  {
   "cell_type": "code",
   "execution_count": 13,
   "metadata": {},
   "outputs": [],
   "source": [
    "def get_extension(body):\n",
    "    prefix = \"Available format(s):\"\n",
    "    for item in body:\n",
    "        if item[\"body\"].startswith(prefix):\n",
    "            content = item[\"body\"][len(prefix):].lower()\n",
    "            if \"pdf\" in content:\n",
    "                return \"pdf\"\n",
    "            if \"ps\" in content:\n",
    "                return \"ps\"\n",
    "    return \"invalid\" "
   ]
  },
  {
   "cell_type": "code",
   "execution_count": 14,
   "metadata": {},
   "outputs": [
    {
     "data": {
      "text/plain": [
       "'pdf'"
      ]
     },
     "execution_count": 14,
     "metadata": {},
     "output_type": "execute_result"
    }
   ],
   "source": [
    "get_extension(body)"
   ]
  },
  {
   "cell_type": "code",
   "execution_count": 15,
   "metadata": {},
   "outputs": [],
   "source": [
    "def get_abstract(body):\n",
    "    prefix = \"Abstract: \"\n",
    "    abstract = \"\"\n",
    "    for item in body:\n",
    "        if item[\"body\"].startswith(\"Category / Keywords: \"):\n",
    "            break\n",
    "        abstract += item[\"body\"]\n",
    "    return abstract[len(prefix):].strip()"
   ]
  },
  {
   "cell_type": "code",
   "execution_count": 16,
   "metadata": {},
   "outputs": [
    {
     "data": {
      "text/plain": [
       "'In  this  paper  we  propose  a  new  class  of  cryptosystems  that  utilizes  metric  continuity.  The  geometric  cryptosystem  considered  in  this  paper  as  the  main  example  of  metric  cryptosystems  has  a  number  of  interesting  properties  such  as  resistance  to  several  basic  cryptographic  attacks,  efficiency   and  detection  of  transmission  errors.'"
      ]
     },
     "execution_count": 16,
     "metadata": {},
     "output_type": "execute_result"
    }
   ],
   "source": [
    "get_abstract(body)"
   ]
  },
  {
   "cell_type": "code",
   "execution_count": 17,
   "metadata": {},
   "outputs": [
    {
     "data": {
      "text/html": [
       "<div>\n",
       "<style scoped>\n",
       "    .dataframe tbody tr th:only-of-type {\n",
       "        vertical-align: middle;\n",
       "    }\n",
       "\n",
       "    .dataframe tbody tr th {\n",
       "        vertical-align: top;\n",
       "    }\n",
       "\n",
       "    .dataframe thead th {\n",
       "        text-align: right;\n",
       "    }\n",
       "</style>\n",
       "<table border=\"1\" class=\"dataframe\">\n",
       "  <thead>\n",
       "    <tr style=\"text-align: right;\">\n",
       "      <th></th>\n",
       "      <th>article-href</th>\n",
       "      <th>title</th>\n",
       "      <th>authors</th>\n",
       "      <th>body</th>\n",
       "    </tr>\n",
       "  </thead>\n",
       "  <tbody>\n",
       "    <tr>\n",
       "      <th>0</th>\n",
       "      <td>https://eprint.iacr.org/2005/158</td>\n",
       "      <td>Geometric  Cryptosystem</td>\n",
       "      <td>Arkady  Berenstein    and  Leon  Chernyak</td>\n",
       "      <td>[{\"body\":\"Abstract: In  this  paper  we  propo...</td>\n",
       "    </tr>\n",
       "    <tr>\n",
       "      <th>1</th>\n",
       "      <td>https://eprint.iacr.org/2002/100</td>\n",
       "      <td>Encryption-Scheme  Security  in  the  Presence...</td>\n",
       "      <td>J.  Black   and  P.  Rogaway   and  T.  Shrimpton</td>\n",
       "      <td>[{\"body\":\"Abstract: Encryption  that  is  only...</td>\n",
       "    </tr>\n",
       "    <tr>\n",
       "      <th>2</th>\n",
       "      <td>https://eprint.iacr.org/2015/175</td>\n",
       "      <td>Trivial  Nonce-Misusing  Attack  on  Pure  OMD</td>\n",
       "      <td>Tomer  Ashur   and  Bart  Mennink</td>\n",
       "      <td>[{\"body\":\"Abstract: Pure  OMD  is  an  authent...</td>\n",
       "    </tr>\n",
       "    <tr>\n",
       "      <th>3</th>\n",
       "      <td>https://eprint.iacr.org/2009/120</td>\n",
       "      <td>On  the  Complexity  of  Khovratovich  et.al's...</td>\n",
       "      <td>Danilo  Gligoroski   and  Rune  Steinsmo  Ø de...</td>\n",
       "      <td>[{\"body\":\"Abstract: Based  on  the  analysis  ...</td>\n",
       "    </tr>\n",
       "    <tr>\n",
       "      <th>4</th>\n",
       "      <td>https://eprint.iacr.org/2007/119</td>\n",
       "      <td>Rerandomizable  RCCA  Encryption</td>\n",
       "      <td>Manoj  Prabhakaran   and  Mike  Rosulek</td>\n",
       "      <td>[{\"body\":\"Abstract: We  give  the  first  perf...</td>\n",
       "    </tr>\n",
       "  </tbody>\n",
       "</table>\n",
       "</div>"
      ],
      "text/plain": [
       "                       article-href  \\\n",
       "0  https://eprint.iacr.org/2005/158   \n",
       "1  https://eprint.iacr.org/2002/100   \n",
       "2  https://eprint.iacr.org/2015/175   \n",
       "3  https://eprint.iacr.org/2009/120   \n",
       "4  https://eprint.iacr.org/2007/119   \n",
       "\n",
       "                                               title  \\\n",
       "0                            Geometric  Cryptosystem   \n",
       "1  Encryption-Scheme  Security  in  the  Presence...   \n",
       "2     Trivial  Nonce-Misusing  Attack  on  Pure  OMD   \n",
       "3  On  the  Complexity  of  Khovratovich  et.al's...   \n",
       "4                   Rerandomizable  RCCA  Encryption   \n",
       "\n",
       "                                             authors  \\\n",
       "0          Arkady  Berenstein    and  Leon  Chernyak   \n",
       "1  J.  Black   and  P.  Rogaway   and  T.  Shrimpton   \n",
       "2                  Tomer  Ashur   and  Bart  Mennink   \n",
       "3  Danilo  Gligoroski   and  Rune  Steinsmo  Ø de...   \n",
       "4            Manoj  Prabhakaran   and  Mike  Rosulek   \n",
       "\n",
       "                                                body  \n",
       "0  [{\"body\":\"Abstract: In  this  paper  we  propo...  \n",
       "1  [{\"body\":\"Abstract: Encryption  that  is  only...  \n",
       "2  [{\"body\":\"Abstract: Pure  OMD  is  an  authent...  \n",
       "3  [{\"body\":\"Abstract: Based  on  the  analysis  ...  \n",
       "4  [{\"body\":\"Abstract: We  give  the  first  perf...  "
      ]
     },
     "execution_count": 17,
     "metadata": {},
     "output_type": "execute_result"
    }
   ],
   "source": [
    "articles.head()"
   ]
  },
  {
   "cell_type": "code",
   "execution_count": 18,
   "metadata": {},
   "outputs": [],
   "source": [
    "articles['body'] = articles['body'].apply(json.loads)"
   ]
  },
  {
   "cell_type": "code",
   "execution_count": 19,
   "metadata": {},
   "outputs": [],
   "source": [
    "articles['extension'] = articles['body'].apply(get_extension)\n",
    "articles['abstract'] = articles['body'].apply(get_abstract)\n",
    "articles['keywords'] = articles['body'].apply(get_keywords)"
   ]
  },
  {
   "cell_type": "code",
   "execution_count": 20,
   "metadata": {},
   "outputs": [],
   "source": [
    "articles['url'] = articles['article-href'] + \".\" + articles['extension']"
   ]
  },
  {
   "cell_type": "code",
   "execution_count": 21,
   "metadata": {},
   "outputs": [],
   "source": [
    "articles = articles.drop(['article-href', 'body', 'extension'], axis=1)"
   ]
  },
  {
   "cell_type": "code",
   "execution_count": 22,
   "metadata": {},
   "outputs": [],
   "source": [
    "def cleanup_title(title):\n",
    "    try:\n",
    "        title = str(title)\n",
    "        title = title.strip()\n",
    "        title = ' '.join(title.split())\n",
    "        return title\n",
    "    except Exception as e:\n",
    "        print(e)"
   ]
  },
  {
   "cell_type": "code",
   "execution_count": 23,
   "metadata": {},
   "outputs": [],
   "source": [
    "articles['title'] = articles['title'].apply(cleanup_title)"
   ]
  },
  {
   "cell_type": "code",
   "execution_count": 24,
   "metadata": {},
   "outputs": [],
   "source": [
    "articles['authors'] = articles['authors'].apply(str)"
   ]
  },
  {
   "cell_type": "code",
   "execution_count": 28,
   "metadata": {},
   "outputs": [
    {
     "data": {
      "text/plain": [
       "True"
      ]
     },
     "execution_count": 28,
     "metadata": {},
     "output_type": "execute_result"
    }
   ],
   "source": [
    "len(articles.columns) == 5"
   ]
  },
  {
   "cell_type": "code",
   "execution_count": 32,
   "metadata": {},
   "outputs": [
    {
     "data": {
      "text/html": [
       "<div>\n",
       "<style scoped>\n",
       "    .dataframe tbody tr th:only-of-type {\n",
       "        vertical-align: middle;\n",
       "    }\n",
       "\n",
       "    .dataframe tbody tr th {\n",
       "        vertical-align: top;\n",
       "    }\n",
       "\n",
       "    .dataframe thead th {\n",
       "        text-align: right;\n",
       "    }\n",
       "</style>\n",
       "<table border=\"1\" class=\"dataframe\">\n",
       "  <thead>\n",
       "    <tr style=\"text-align: right;\">\n",
       "      <th></th>\n",
       "      <th>title</th>\n",
       "      <th>authors</th>\n",
       "      <th>abstract</th>\n",
       "      <th>keywords</th>\n",
       "      <th>url</th>\n",
       "    </tr>\n",
       "  </thead>\n",
       "  <tbody>\n",
       "    <tr>\n",
       "      <th>0</th>\n",
       "      <td>Geometric Cryptosystem</td>\n",
       "      <td>Arkady  Berenstein    and  Leon  Chernyak</td>\n",
       "      <td>In  this  paper  we  propose  a  new  class  o...</td>\n",
       "      <td>foundations /</td>\n",
       "      <td>https://eprint.iacr.org/2005/158.pdf</td>\n",
       "    </tr>\n",
       "    <tr>\n",
       "      <th>1</th>\n",
       "      <td>Encryption-Scheme Security in the Presence of ...</td>\n",
       "      <td>J.  Black   and  P.  Rogaway   and  T.  Shrimpton</td>\n",
       "      <td>Encryption  that  is  only  semantically  secu...</td>\n",
       "      <td>foundations /  Definitions, ``formal'' cryptog...</td>\n",
       "      <td>https://eprint.iacr.org/2002/100.ps</td>\n",
       "    </tr>\n",
       "    <tr>\n",
       "      <th>2</th>\n",
       "      <td>Trivial Nonce-Misusing Attack on Pure OMD</td>\n",
       "      <td>Tomer  Ashur   and  Bart  Mennink</td>\n",
       "      <td>Pure  OMD  is  an  authenticated  encryption  ...</td>\n",
       "      <td>secret-key cryptography / authenticated encryp...</td>\n",
       "      <td>https://eprint.iacr.org/2015/175.pdf</td>\n",
       "    </tr>\n",
       "    <tr>\n",
       "      <th>3</th>\n",
       "      <td>On the Complexity of Khovratovich et.al's Prei...</td>\n",
       "      <td>Danilo  Gligoroski   and  Rune  Steinsmo  Ø de...</td>\n",
       "      <td>Based  on  the  analysis  made  by  van  Oorsc...</td>\n",
       "      <td>sha-3, Edon-R, hash function</td>\n",
       "      <td>https://eprint.iacr.org/2009/120.pdf</td>\n",
       "    </tr>\n",
       "    <tr>\n",
       "      <th>4</th>\n",
       "      <td>Rerandomizable RCCA Encryption</td>\n",
       "      <td>Manoj  Prabhakaran   and  Mike  Rosulek</td>\n",
       "      <td>We  give  the  first  perfectly  rerandomizabl...</td>\n",
       "      <td>public-key cryptography / Anonymous Rerandomiz...</td>\n",
       "      <td>https://eprint.iacr.org/2007/119.pdf</td>\n",
       "    </tr>\n",
       "  </tbody>\n",
       "</table>\n",
       "</div>"
      ],
      "text/plain": [
       "                                               title  \\\n",
       "0                             Geometric Cryptosystem   \n",
       "1  Encryption-Scheme Security in the Presence of ...   \n",
       "2          Trivial Nonce-Misusing Attack on Pure OMD   \n",
       "3  On the Complexity of Khovratovich et.al's Prei...   \n",
       "4                     Rerandomizable RCCA Encryption   \n",
       "\n",
       "                                             authors  \\\n",
       "0          Arkady  Berenstein    and  Leon  Chernyak   \n",
       "1  J.  Black   and  P.  Rogaway   and  T.  Shrimpton   \n",
       "2                  Tomer  Ashur   and  Bart  Mennink   \n",
       "3  Danilo  Gligoroski   and  Rune  Steinsmo  Ø de...   \n",
       "4            Manoj  Prabhakaran   and  Mike  Rosulek   \n",
       "\n",
       "                                            abstract  \\\n",
       "0  In  this  paper  we  propose  a  new  class  o...   \n",
       "1  Encryption  that  is  only  semantically  secu...   \n",
       "2  Pure  OMD  is  an  authenticated  encryption  ...   \n",
       "3  Based  on  the  analysis  made  by  van  Oorsc...   \n",
       "4  We  give  the  first  perfectly  rerandomizabl...   \n",
       "\n",
       "                                            keywords  \\\n",
       "0                                      foundations /   \n",
       "1  foundations /  Definitions, ``formal'' cryptog...   \n",
       "2  secret-key cryptography / authenticated encryp...   \n",
       "3                       sha-3, Edon-R, hash function   \n",
       "4  public-key cryptography / Anonymous Rerandomiz...   \n",
       "\n",
       "                                    url  \n",
       "0  https://eprint.iacr.org/2005/158.pdf  \n",
       "1   https://eprint.iacr.org/2002/100.ps  \n",
       "2  https://eprint.iacr.org/2015/175.pdf  \n",
       "3  https://eprint.iacr.org/2009/120.pdf  \n",
       "4  https://eprint.iacr.org/2007/119.pdf  "
      ]
     },
     "execution_count": 32,
     "metadata": {},
     "output_type": "execute_result"
    }
   ],
   "source": [
    "articles.head()"
   ]
  },
  {
   "cell_type": "code",
   "execution_count": null,
   "metadata": {},
   "outputs": [],
   "source": [
    "articles.to_csv('processed_iacr.csv')"
   ]
  },
  {
   "cell_type": "code",
   "execution_count": null,
   "metadata": {},
   "outputs": [],
   "source": [
    "new_df = pd.read_csv('processed_iacr.csv')"
   ]
  },
  {
   "cell_type": "code",
   "execution_count": null,
   "metadata": {},
   "outputs": [],
   "source": [
    "new_df.info()"
   ]
  },
  {
   "cell_type": "code",
   "execution_count": 44,
   "metadata": {},
   "outputs": [
    {
     "ename": "ValueError",
     "evalue": "If using all scalar values, you must pass an index",
     "output_type": "error",
     "traceback": [
      "\u001b[0;31m---------------------------------------------------------------------------\u001b[0m",
      "\u001b[0;31mValueError\u001b[0m                                Traceback (most recent call last)",
      "\u001b[0;32m<ipython-input-44-3524d3132986>\u001b[0m in \u001b[0;36m<module>\u001b[0;34m\u001b[0m\n\u001b[1;32m      3\u001b[0m }\n\u001b[1;32m      4\u001b[0m \u001b[0;34m\u001b[0m\u001b[0m\n\u001b[0;32m----> 5\u001b[0;31m \u001b[0mpd\u001b[0m\u001b[0;34m.\u001b[0m\u001b[0mDataFrame\u001b[0m\u001b[0;34m.\u001b[0m\u001b[0mfrom_dict\u001b[0m\u001b[0;34m(\u001b[0m\u001b[0mdata\u001b[0m\u001b[0;34m)\u001b[0m\u001b[0;34m\u001b[0m\u001b[0;34m\u001b[0m\u001b[0m\n\u001b[0m",
      "\u001b[0;32m~/repos/article_graph/venv/lib/python3.8/site-packages/pandas/core/frame.py\u001b[0m in \u001b[0;36mfrom_dict\u001b[0;34m(cls, data, orient, dtype, columns)\u001b[0m\n\u001b[1;32m   1307\u001b[0m             \u001b[0;32mraise\u001b[0m \u001b[0mValueError\u001b[0m\u001b[0;34m(\u001b[0m\u001b[0;34m\"only recognize index or columns for orient\"\u001b[0m\u001b[0;34m)\u001b[0m\u001b[0;34m\u001b[0m\u001b[0;34m\u001b[0m\u001b[0m\n\u001b[1;32m   1308\u001b[0m \u001b[0;34m\u001b[0m\u001b[0m\n\u001b[0;32m-> 1309\u001b[0;31m         \u001b[0;32mreturn\u001b[0m \u001b[0mcls\u001b[0m\u001b[0;34m(\u001b[0m\u001b[0mdata\u001b[0m\u001b[0;34m,\u001b[0m \u001b[0mindex\u001b[0m\u001b[0;34m=\u001b[0m\u001b[0mindex\u001b[0m\u001b[0;34m,\u001b[0m \u001b[0mcolumns\u001b[0m\u001b[0;34m=\u001b[0m\u001b[0mcolumns\u001b[0m\u001b[0;34m,\u001b[0m \u001b[0mdtype\u001b[0m\u001b[0;34m=\u001b[0m\u001b[0mdtype\u001b[0m\u001b[0;34m)\u001b[0m\u001b[0;34m\u001b[0m\u001b[0;34m\u001b[0m\u001b[0m\n\u001b[0m\u001b[1;32m   1310\u001b[0m \u001b[0;34m\u001b[0m\u001b[0m\n\u001b[1;32m   1311\u001b[0m     def to_numpy(\n",
      "\u001b[0;32m~/repos/article_graph/venv/lib/python3.8/site-packages/pandas/core/frame.py\u001b[0m in \u001b[0;36m__init__\u001b[0;34m(self, data, index, columns, dtype, copy)\u001b[0m\n\u001b[1;32m    466\u001b[0m \u001b[0;34m\u001b[0m\u001b[0m\n\u001b[1;32m    467\u001b[0m         \u001b[0;32melif\u001b[0m \u001b[0misinstance\u001b[0m\u001b[0;34m(\u001b[0m\u001b[0mdata\u001b[0m\u001b[0;34m,\u001b[0m \u001b[0mdict\u001b[0m\u001b[0;34m)\u001b[0m\u001b[0;34m:\u001b[0m\u001b[0;34m\u001b[0m\u001b[0;34m\u001b[0m\u001b[0m\n\u001b[0;32m--> 468\u001b[0;31m             \u001b[0mmgr\u001b[0m \u001b[0;34m=\u001b[0m \u001b[0minit_dict\u001b[0m\u001b[0;34m(\u001b[0m\u001b[0mdata\u001b[0m\u001b[0;34m,\u001b[0m \u001b[0mindex\u001b[0m\u001b[0;34m,\u001b[0m \u001b[0mcolumns\u001b[0m\u001b[0;34m,\u001b[0m \u001b[0mdtype\u001b[0m\u001b[0;34m=\u001b[0m\u001b[0mdtype\u001b[0m\u001b[0;34m)\u001b[0m\u001b[0;34m\u001b[0m\u001b[0;34m\u001b[0m\u001b[0m\n\u001b[0m\u001b[1;32m    469\u001b[0m         \u001b[0;32melif\u001b[0m \u001b[0misinstance\u001b[0m\u001b[0;34m(\u001b[0m\u001b[0mdata\u001b[0m\u001b[0;34m,\u001b[0m \u001b[0mma\u001b[0m\u001b[0;34m.\u001b[0m\u001b[0mMaskedArray\u001b[0m\u001b[0;34m)\u001b[0m\u001b[0;34m:\u001b[0m\u001b[0;34m\u001b[0m\u001b[0;34m\u001b[0m\u001b[0m\n\u001b[1;32m    470\u001b[0m             \u001b[0;32mimport\u001b[0m \u001b[0mnumpy\u001b[0m\u001b[0;34m.\u001b[0m\u001b[0mma\u001b[0m\u001b[0;34m.\u001b[0m\u001b[0mmrecords\u001b[0m \u001b[0;32mas\u001b[0m \u001b[0mmrecords\u001b[0m\u001b[0;34m\u001b[0m\u001b[0;34m\u001b[0m\u001b[0m\n",
      "\u001b[0;32m~/repos/article_graph/venv/lib/python3.8/site-packages/pandas/core/internals/construction.py\u001b[0m in \u001b[0;36minit_dict\u001b[0;34m(data, index, columns, dtype)\u001b[0m\n\u001b[1;32m    281\u001b[0m             \u001b[0marr\u001b[0m \u001b[0;32mif\u001b[0m \u001b[0;32mnot\u001b[0m \u001b[0mis_datetime64tz_dtype\u001b[0m\u001b[0;34m(\u001b[0m\u001b[0marr\u001b[0m\u001b[0;34m)\u001b[0m \u001b[0;32melse\u001b[0m \u001b[0marr\u001b[0m\u001b[0;34m.\u001b[0m\u001b[0mcopy\u001b[0m\u001b[0;34m(\u001b[0m\u001b[0;34m)\u001b[0m \u001b[0;32mfor\u001b[0m \u001b[0marr\u001b[0m \u001b[0;32min\u001b[0m \u001b[0marrays\u001b[0m\u001b[0;34m\u001b[0m\u001b[0;34m\u001b[0m\u001b[0m\n\u001b[1;32m    282\u001b[0m         ]\n\u001b[0;32m--> 283\u001b[0;31m     \u001b[0;32mreturn\u001b[0m \u001b[0marrays_to_mgr\u001b[0m\u001b[0;34m(\u001b[0m\u001b[0marrays\u001b[0m\u001b[0;34m,\u001b[0m \u001b[0mdata_names\u001b[0m\u001b[0;34m,\u001b[0m \u001b[0mindex\u001b[0m\u001b[0;34m,\u001b[0m \u001b[0mcolumns\u001b[0m\u001b[0;34m,\u001b[0m \u001b[0mdtype\u001b[0m\u001b[0;34m=\u001b[0m\u001b[0mdtype\u001b[0m\u001b[0;34m)\u001b[0m\u001b[0;34m\u001b[0m\u001b[0;34m\u001b[0m\u001b[0m\n\u001b[0m\u001b[1;32m    284\u001b[0m \u001b[0;34m\u001b[0m\u001b[0m\n\u001b[1;32m    285\u001b[0m \u001b[0;34m\u001b[0m\u001b[0m\n",
      "\u001b[0;32m~/repos/article_graph/venv/lib/python3.8/site-packages/pandas/core/internals/construction.py\u001b[0m in \u001b[0;36marrays_to_mgr\u001b[0;34m(arrays, arr_names, index, columns, dtype, verify_integrity)\u001b[0m\n\u001b[1;32m     76\u001b[0m         \u001b[0;31m# figure out the index, if necessary\u001b[0m\u001b[0;34m\u001b[0m\u001b[0;34m\u001b[0m\u001b[0;34m\u001b[0m\u001b[0m\n\u001b[1;32m     77\u001b[0m         \u001b[0;32mif\u001b[0m \u001b[0mindex\u001b[0m \u001b[0;32mis\u001b[0m \u001b[0;32mNone\u001b[0m\u001b[0;34m:\u001b[0m\u001b[0;34m\u001b[0m\u001b[0;34m\u001b[0m\u001b[0m\n\u001b[0;32m---> 78\u001b[0;31m             \u001b[0mindex\u001b[0m \u001b[0;34m=\u001b[0m \u001b[0mextract_index\u001b[0m\u001b[0;34m(\u001b[0m\u001b[0marrays\u001b[0m\u001b[0;34m)\u001b[0m\u001b[0;34m\u001b[0m\u001b[0;34m\u001b[0m\u001b[0m\n\u001b[0m\u001b[1;32m     79\u001b[0m         \u001b[0;32melse\u001b[0m\u001b[0;34m:\u001b[0m\u001b[0;34m\u001b[0m\u001b[0;34m\u001b[0m\u001b[0m\n\u001b[1;32m     80\u001b[0m             \u001b[0mindex\u001b[0m \u001b[0;34m=\u001b[0m \u001b[0mensure_index\u001b[0m\u001b[0;34m(\u001b[0m\u001b[0mindex\u001b[0m\u001b[0;34m)\u001b[0m\u001b[0;34m\u001b[0m\u001b[0;34m\u001b[0m\u001b[0m\n",
      "\u001b[0;32m~/repos/article_graph/venv/lib/python3.8/site-packages/pandas/core/internals/construction.py\u001b[0m in \u001b[0;36mextract_index\u001b[0;34m(data)\u001b[0m\n\u001b[1;32m    385\u001b[0m \u001b[0;34m\u001b[0m\u001b[0m\n\u001b[1;32m    386\u001b[0m         \u001b[0;32mif\u001b[0m \u001b[0;32mnot\u001b[0m \u001b[0mindexes\u001b[0m \u001b[0;32mand\u001b[0m \u001b[0;32mnot\u001b[0m \u001b[0mraw_lengths\u001b[0m\u001b[0;34m:\u001b[0m\u001b[0;34m\u001b[0m\u001b[0;34m\u001b[0m\u001b[0m\n\u001b[0;32m--> 387\u001b[0;31m             \u001b[0;32mraise\u001b[0m \u001b[0mValueError\u001b[0m\u001b[0;34m(\u001b[0m\u001b[0;34m\"If using all scalar values, you must pass an index\"\u001b[0m\u001b[0;34m)\u001b[0m\u001b[0;34m\u001b[0m\u001b[0;34m\u001b[0m\u001b[0m\n\u001b[0m\u001b[1;32m    388\u001b[0m \u001b[0;34m\u001b[0m\u001b[0m\n\u001b[1;32m    389\u001b[0m         \u001b[0;32mif\u001b[0m \u001b[0mhave_series\u001b[0m\u001b[0;34m:\u001b[0m\u001b[0;34m\u001b[0m\u001b[0;34m\u001b[0m\u001b[0m\n",
      "\u001b[0;31mValueError\u001b[0m: If using all scalar values, you must pass an index"
     ]
    }
   ],
   "source": [
    "data = {\n",
    "    \"web-scraper-order\": \"aaa\",\n",
    "}\n",
    "\n",
    "pd.DataFrame.from_dict(data)"
   ]
  },
  {
   "cell_type": "code",
   "execution_count": 39,
   "metadata": {},
   "outputs": [
    {
     "ename": "ValueError",
     "evalue": "If using all scalar values, you must pass an index",
     "output_type": "error",
     "traceback": [
      "\u001b[0;31m---------------------------------------------------------------------------\u001b[0m",
      "\u001b[0;31mValueError\u001b[0m                                Traceback (most recent call last)",
      "\u001b[0;32m<ipython-input-39-4580f811afbf>\u001b[0m in \u001b[0;36m<module>\u001b[0;34m\u001b[0m\n\u001b[0;32m----> 1\u001b[0;31m df = pd.DataFrame.from_dict({\n\u001b[0m\u001b[1;32m      2\u001b[0m     \u001b[0;34m\"web-scraper-order\"\u001b[0m\u001b[0;34m:\u001b[0m \u001b[0;34m\"aaa\"\u001b[0m\u001b[0;34m,\u001b[0m\u001b[0;34m\u001b[0m\u001b[0;34m\u001b[0m\u001b[0m\n\u001b[1;32m      3\u001b[0m     \u001b[0;34m\"web-scraper-start-url\"\u001b[0m\u001b[0;34m:\u001b[0m \u001b[0;34m\"bbb\"\u001b[0m\u001b[0;34m,\u001b[0m\u001b[0;34m\u001b[0m\u001b[0;34m\u001b[0m\u001b[0m\n\u001b[1;32m      4\u001b[0m     \u001b[0;34m\"article\"\u001b[0m\u001b[0;34m:\u001b[0m \u001b[0;34m\"ccc\"\u001b[0m\u001b[0;34m,\u001b[0m\u001b[0;34m\u001b[0m\u001b[0;34m\u001b[0m\u001b[0m\n\u001b[1;32m      5\u001b[0m     \u001b[0;34m\"article-href\"\u001b[0m\u001b[0;34m:\u001b[0m \u001b[0;34m\"https://example.com/file.name\"\u001b[0m\u001b[0;34m,\u001b[0m\u001b[0;34m\u001b[0m\u001b[0;34m\u001b[0m\u001b[0m\n",
      "\u001b[0;32m~/repos/article_graph/venv/lib/python3.8/site-packages/pandas/core/frame.py\u001b[0m in \u001b[0;36mfrom_dict\u001b[0;34m(cls, data, orient, dtype, columns)\u001b[0m\n\u001b[1;32m   1307\u001b[0m             \u001b[0;32mraise\u001b[0m \u001b[0mValueError\u001b[0m\u001b[0;34m(\u001b[0m\u001b[0;34m\"only recognize index or columns for orient\"\u001b[0m\u001b[0;34m)\u001b[0m\u001b[0;34m\u001b[0m\u001b[0;34m\u001b[0m\u001b[0m\n\u001b[1;32m   1308\u001b[0m \u001b[0;34m\u001b[0m\u001b[0m\n\u001b[0;32m-> 1309\u001b[0;31m         \u001b[0;32mreturn\u001b[0m \u001b[0mcls\u001b[0m\u001b[0;34m(\u001b[0m\u001b[0mdata\u001b[0m\u001b[0;34m,\u001b[0m \u001b[0mindex\u001b[0m\u001b[0;34m=\u001b[0m\u001b[0mindex\u001b[0m\u001b[0;34m,\u001b[0m \u001b[0mcolumns\u001b[0m\u001b[0;34m=\u001b[0m\u001b[0mcolumns\u001b[0m\u001b[0;34m,\u001b[0m \u001b[0mdtype\u001b[0m\u001b[0;34m=\u001b[0m\u001b[0mdtype\u001b[0m\u001b[0;34m)\u001b[0m\u001b[0;34m\u001b[0m\u001b[0;34m\u001b[0m\u001b[0m\n\u001b[0m\u001b[1;32m   1310\u001b[0m \u001b[0;34m\u001b[0m\u001b[0m\n\u001b[1;32m   1311\u001b[0m     def to_numpy(\n",
      "\u001b[0;32m~/repos/article_graph/venv/lib/python3.8/site-packages/pandas/core/frame.py\u001b[0m in \u001b[0;36m__init__\u001b[0;34m(self, data, index, columns, dtype, copy)\u001b[0m\n\u001b[1;32m    466\u001b[0m \u001b[0;34m\u001b[0m\u001b[0m\n\u001b[1;32m    467\u001b[0m         \u001b[0;32melif\u001b[0m \u001b[0misinstance\u001b[0m\u001b[0;34m(\u001b[0m\u001b[0mdata\u001b[0m\u001b[0;34m,\u001b[0m \u001b[0mdict\u001b[0m\u001b[0;34m)\u001b[0m\u001b[0;34m:\u001b[0m\u001b[0;34m\u001b[0m\u001b[0;34m\u001b[0m\u001b[0m\n\u001b[0;32m--> 468\u001b[0;31m             \u001b[0mmgr\u001b[0m \u001b[0;34m=\u001b[0m \u001b[0minit_dict\u001b[0m\u001b[0;34m(\u001b[0m\u001b[0mdata\u001b[0m\u001b[0;34m,\u001b[0m \u001b[0mindex\u001b[0m\u001b[0;34m,\u001b[0m \u001b[0mcolumns\u001b[0m\u001b[0;34m,\u001b[0m \u001b[0mdtype\u001b[0m\u001b[0;34m=\u001b[0m\u001b[0mdtype\u001b[0m\u001b[0;34m)\u001b[0m\u001b[0;34m\u001b[0m\u001b[0;34m\u001b[0m\u001b[0m\n\u001b[0m\u001b[1;32m    469\u001b[0m         \u001b[0;32melif\u001b[0m \u001b[0misinstance\u001b[0m\u001b[0;34m(\u001b[0m\u001b[0mdata\u001b[0m\u001b[0;34m,\u001b[0m \u001b[0mma\u001b[0m\u001b[0;34m.\u001b[0m\u001b[0mMaskedArray\u001b[0m\u001b[0;34m)\u001b[0m\u001b[0;34m:\u001b[0m\u001b[0;34m\u001b[0m\u001b[0;34m\u001b[0m\u001b[0m\n\u001b[1;32m    470\u001b[0m             \u001b[0;32mimport\u001b[0m \u001b[0mnumpy\u001b[0m\u001b[0;34m.\u001b[0m\u001b[0mma\u001b[0m\u001b[0;34m.\u001b[0m\u001b[0mmrecords\u001b[0m \u001b[0;32mas\u001b[0m \u001b[0mmrecords\u001b[0m\u001b[0;34m\u001b[0m\u001b[0;34m\u001b[0m\u001b[0m\n",
      "\u001b[0;32m~/repos/article_graph/venv/lib/python3.8/site-packages/pandas/core/internals/construction.py\u001b[0m in \u001b[0;36minit_dict\u001b[0;34m(data, index, columns, dtype)\u001b[0m\n\u001b[1;32m    281\u001b[0m             \u001b[0marr\u001b[0m \u001b[0;32mif\u001b[0m \u001b[0;32mnot\u001b[0m \u001b[0mis_datetime64tz_dtype\u001b[0m\u001b[0;34m(\u001b[0m\u001b[0marr\u001b[0m\u001b[0;34m)\u001b[0m \u001b[0;32melse\u001b[0m \u001b[0marr\u001b[0m\u001b[0;34m.\u001b[0m\u001b[0mcopy\u001b[0m\u001b[0;34m(\u001b[0m\u001b[0;34m)\u001b[0m \u001b[0;32mfor\u001b[0m \u001b[0marr\u001b[0m \u001b[0;32min\u001b[0m \u001b[0marrays\u001b[0m\u001b[0;34m\u001b[0m\u001b[0;34m\u001b[0m\u001b[0m\n\u001b[1;32m    282\u001b[0m         ]\n\u001b[0;32m--> 283\u001b[0;31m     \u001b[0;32mreturn\u001b[0m \u001b[0marrays_to_mgr\u001b[0m\u001b[0;34m(\u001b[0m\u001b[0marrays\u001b[0m\u001b[0;34m,\u001b[0m \u001b[0mdata_names\u001b[0m\u001b[0;34m,\u001b[0m \u001b[0mindex\u001b[0m\u001b[0;34m,\u001b[0m \u001b[0mcolumns\u001b[0m\u001b[0;34m,\u001b[0m \u001b[0mdtype\u001b[0m\u001b[0;34m=\u001b[0m\u001b[0mdtype\u001b[0m\u001b[0;34m)\u001b[0m\u001b[0;34m\u001b[0m\u001b[0;34m\u001b[0m\u001b[0m\n\u001b[0m\u001b[1;32m    284\u001b[0m \u001b[0;34m\u001b[0m\u001b[0m\n\u001b[1;32m    285\u001b[0m \u001b[0;34m\u001b[0m\u001b[0m\n",
      "\u001b[0;32m~/repos/article_graph/venv/lib/python3.8/site-packages/pandas/core/internals/construction.py\u001b[0m in \u001b[0;36marrays_to_mgr\u001b[0;34m(arrays, arr_names, index, columns, dtype, verify_integrity)\u001b[0m\n\u001b[1;32m     76\u001b[0m         \u001b[0;31m# figure out the index, if necessary\u001b[0m\u001b[0;34m\u001b[0m\u001b[0;34m\u001b[0m\u001b[0;34m\u001b[0m\u001b[0m\n\u001b[1;32m     77\u001b[0m         \u001b[0;32mif\u001b[0m \u001b[0mindex\u001b[0m \u001b[0;32mis\u001b[0m \u001b[0;32mNone\u001b[0m\u001b[0;34m:\u001b[0m\u001b[0;34m\u001b[0m\u001b[0;34m\u001b[0m\u001b[0m\n\u001b[0;32m---> 78\u001b[0;31m             \u001b[0mindex\u001b[0m \u001b[0;34m=\u001b[0m \u001b[0mextract_index\u001b[0m\u001b[0;34m(\u001b[0m\u001b[0marrays\u001b[0m\u001b[0;34m)\u001b[0m\u001b[0;34m\u001b[0m\u001b[0;34m\u001b[0m\u001b[0m\n\u001b[0m\u001b[1;32m     79\u001b[0m         \u001b[0;32melse\u001b[0m\u001b[0;34m:\u001b[0m\u001b[0;34m\u001b[0m\u001b[0;34m\u001b[0m\u001b[0m\n\u001b[1;32m     80\u001b[0m             \u001b[0mindex\u001b[0m \u001b[0;34m=\u001b[0m \u001b[0mensure_index\u001b[0m\u001b[0;34m(\u001b[0m\u001b[0mindex\u001b[0m\u001b[0;34m)\u001b[0m\u001b[0;34m\u001b[0m\u001b[0;34m\u001b[0m\u001b[0m\n",
      "\u001b[0;32m~/repos/article_graph/venv/lib/python3.8/site-packages/pandas/core/internals/construction.py\u001b[0m in \u001b[0;36mextract_index\u001b[0;34m(data)\u001b[0m\n\u001b[1;32m    385\u001b[0m \u001b[0;34m\u001b[0m\u001b[0m\n\u001b[1;32m    386\u001b[0m         \u001b[0;32mif\u001b[0m \u001b[0;32mnot\u001b[0m \u001b[0mindexes\u001b[0m \u001b[0;32mand\u001b[0m \u001b[0;32mnot\u001b[0m \u001b[0mraw_lengths\u001b[0m\u001b[0;34m:\u001b[0m\u001b[0;34m\u001b[0m\u001b[0;34m\u001b[0m\u001b[0m\n\u001b[0;32m--> 387\u001b[0;31m             \u001b[0;32mraise\u001b[0m \u001b[0mValueError\u001b[0m\u001b[0;34m(\u001b[0m\u001b[0;34m\"If using all scalar values, you must pass an index\"\u001b[0m\u001b[0;34m)\u001b[0m\u001b[0;34m\u001b[0m\u001b[0;34m\u001b[0m\u001b[0m\n\u001b[0m\u001b[1;32m    388\u001b[0m \u001b[0;34m\u001b[0m\u001b[0m\n\u001b[1;32m    389\u001b[0m         \u001b[0;32mif\u001b[0m \u001b[0mhave_series\u001b[0m\u001b[0;34m:\u001b[0m\u001b[0;34m\u001b[0m\u001b[0;34m\u001b[0m\u001b[0m\n",
      "\u001b[0;31mValueError\u001b[0m: If using all scalar values, you must pass an index"
     ]
    }
   ],
   "source": [
    "df = pd.DataFrame.from_dict() "
   ]
  },
  {
   "cell_type": "code",
   "execution_count": null,
   "metadata": {},
   "outputs": [],
   "source": []
  }
 ],
 "metadata": {
  "kernelspec": {
   "display_name": "Python 3",
   "language": "python",
   "name": "python3"
  },
  "language_info": {
   "codemirror_mode": {
    "name": "ipython",
    "version": 3
   },
   "file_extension": ".py",
   "mimetype": "text/x-python",
   "name": "python",
   "nbconvert_exporter": "python",
   "pygments_lexer": "ipython3",
   "version": "3.8.6"
  }
 },
 "nbformat": 4,
 "nbformat_minor": 4
}
