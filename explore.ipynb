{
 "cells": [
  {
   "cell_type": "code",
   "execution_count": 1,
   "metadata": {},
   "outputs": [],
   "source": [
    "import pandas as pd"
   ]
  },
  {
   "cell_type": "code",
   "execution_count": 11,
   "metadata": {},
   "outputs": [],
   "source": [
    "import json"
   ]
  },
  {
   "cell_type": "code",
   "execution_count": 3,
   "metadata": {},
   "outputs": [
    {
     "data": {
      "text/plain": [
       "'1.1.4'"
      ]
     },
     "execution_count": 3,
     "metadata": {},
     "output_type": "execute_result"
    }
   ],
   "source": [
    "pd.__version__"
   ]
  },
  {
   "cell_type": "code",
   "execution_count": 4,
   "metadata": {},
   "outputs": [],
   "source": [
    "df = pd.read_csv('iacr.csv')"
   ]
  },
  {
   "cell_type": "code",
   "execution_count": 5,
   "metadata": {},
   "outputs": [
    {
     "data": {
      "text/html": [
       "<div>\n",
       "<style scoped>\n",
       "    .dataframe tbody tr th:only-of-type {\n",
       "        vertical-align: middle;\n",
       "    }\n",
       "\n",
       "    .dataframe tbody tr th {\n",
       "        vertical-align: top;\n",
       "    }\n",
       "\n",
       "    .dataframe thead th {\n",
       "        text-align: right;\n",
       "    }\n",
       "</style>\n",
       "<table border=\"1\" class=\"dataframe\">\n",
       "  <thead>\n",
       "    <tr style=\"text-align: right;\">\n",
       "      <th></th>\n",
       "      <th>web-scraper-order</th>\n",
       "      <th>web-scraper-start-url</th>\n",
       "      <th>article</th>\n",
       "      <th>article-href</th>\n",
       "      <th>title</th>\n",
       "      <th>authors</th>\n",
       "      <th>body</th>\n",
       "    </tr>\n",
       "  </thead>\n",
       "  <tbody>\n",
       "    <tr>\n",
       "      <th>0</th>\n",
       "      <td>1604473310-14182</td>\n",
       "      <td>https://eprint.iacr.org/2005</td>\n",
       "      <td>2005/158</td>\n",
       "      <td>https://eprint.iacr.org/2005/158</td>\n",
       "      <td>Geometric  Cryptosystem</td>\n",
       "      <td>Arkady  Berenstein    and  Leon  Chernyak</td>\n",
       "      <td>[{\"body\":\"Abstract: In  this  paper  we  propo...</td>\n",
       "    </tr>\n",
       "    <tr>\n",
       "      <th>1</th>\n",
       "      <td>1604475645-15233</td>\n",
       "      <td>https://eprint.iacr.org/2002</td>\n",
       "      <td>2002/100</td>\n",
       "      <td>https://eprint.iacr.org/2002/100</td>\n",
       "      <td>Encryption-Scheme  Security  in  the  Presence...</td>\n",
       "      <td>J.  Black   and  P.  Rogaway   and  T.  Shrimpton</td>\n",
       "      <td>[{\"body\":\"Abstract: Encryption  that  is  only...</td>\n",
       "    </tr>\n",
       "    <tr>\n",
       "      <th>2</th>\n",
       "      <td>1604456951-6776</td>\n",
       "      <td>https://eprint.iacr.org/2015</td>\n",
       "      <td>2015/175</td>\n",
       "      <td>https://eprint.iacr.org/2015/175</td>\n",
       "      <td>Trivial  Nonce-Misusing  Attack  on  Pure  OMD</td>\n",
       "      <td>Tomer  Ashur   and  Bart  Mennink</td>\n",
       "      <td>[{\"body\":\"Abstract: Pure  OMD  is  an  authent...</td>\n",
       "    </tr>\n",
       "    <tr>\n",
       "      <th>3</th>\n",
       "      <td>1604468473-11994</td>\n",
       "      <td>https://eprint.iacr.org/2009</td>\n",
       "      <td>2009/120</td>\n",
       "      <td>https://eprint.iacr.org/2009/120</td>\n",
       "      <td>On  the  Complexity  of  Khovratovich  et.al's...</td>\n",
       "      <td>Danilo  Gligoroski   and  Rune  Steinsmo  Ø de...</td>\n",
       "      <td>[{\"body\":\"Abstract: Based  on  the  analysis  ...</td>\n",
       "    </tr>\n",
       "    <tr>\n",
       "      <th>4</th>\n",
       "      <td>1604471084-13176</td>\n",
       "      <td>https://eprint.iacr.org/2007</td>\n",
       "      <td>2007/119</td>\n",
       "      <td>https://eprint.iacr.org/2007/119</td>\n",
       "      <td>Rerandomizable  RCCA  Encryption</td>\n",
       "      <td>Manoj  Prabhakaran   and  Mike  Rosulek</td>\n",
       "      <td>[{\"body\":\"Abstract: We  give  the  first  perf...</td>\n",
       "    </tr>\n",
       "  </tbody>\n",
       "</table>\n",
       "</div>"
      ],
      "text/plain": [
       "  web-scraper-order         web-scraper-start-url   article  \\\n",
       "0  1604473310-14182  https://eprint.iacr.org/2005  2005/158   \n",
       "1  1604475645-15233  https://eprint.iacr.org/2002  2002/100   \n",
       "2   1604456951-6776  https://eprint.iacr.org/2015  2015/175   \n",
       "3  1604468473-11994  https://eprint.iacr.org/2009  2009/120   \n",
       "4  1604471084-13176  https://eprint.iacr.org/2007  2007/119   \n",
       "\n",
       "                       article-href  \\\n",
       "0  https://eprint.iacr.org/2005/158   \n",
       "1  https://eprint.iacr.org/2002/100   \n",
       "2  https://eprint.iacr.org/2015/175   \n",
       "3  https://eprint.iacr.org/2009/120   \n",
       "4  https://eprint.iacr.org/2007/119   \n",
       "\n",
       "                                               title  \\\n",
       "0                            Geometric  Cryptosystem   \n",
       "1  Encryption-Scheme  Security  in  the  Presence...   \n",
       "2     Trivial  Nonce-Misusing  Attack  on  Pure  OMD   \n",
       "3  On  the  Complexity  of  Khovratovich  et.al's...   \n",
       "4                   Rerandomizable  RCCA  Encryption   \n",
       "\n",
       "                                             authors  \\\n",
       "0          Arkady  Berenstein    and  Leon  Chernyak   \n",
       "1  J.  Black   and  P.  Rogaway   and  T.  Shrimpton   \n",
       "2                  Tomer  Ashur   and  Bart  Mennink   \n",
       "3  Danilo  Gligoroski   and  Rune  Steinsmo  Ø de...   \n",
       "4            Manoj  Prabhakaran   and  Mike  Rosulek   \n",
       "\n",
       "                                                body  \n",
       "0  [{\"body\":\"Abstract: In  this  paper  we  propo...  \n",
       "1  [{\"body\":\"Abstract: Encryption  that  is  only...  \n",
       "2  [{\"body\":\"Abstract: Pure  OMD  is  an  authent...  \n",
       "3  [{\"body\":\"Abstract: Based  on  the  analysis  ...  \n",
       "4  [{\"body\":\"Abstract: We  give  the  first  perf...  "
      ]
     },
     "execution_count": 5,
     "metadata": {},
     "output_type": "execute_result"
    }
   ],
   "source": [
    "df.head()"
   ]
  },
  {
   "cell_type": "code",
   "execution_count": 8,
   "metadata": {},
   "outputs": [],
   "source": [
    "articles = df.drop(['web-scraper-order', 'web-scraper-start-url', 'article'], axis=1)"
   ]
  },
  {
   "cell_type": "code",
   "execution_count": 10,
   "metadata": {},
   "outputs": [
    {
     "data": {
      "text/plain": [
       "'[{\"body\":\"Abstract: In  this  paper  we  propose  a  new  class  of  cryptosystems  that  utilizes  metric  continuity.  The  geometric  cryptosystem  considered  in  this  paper  as  the  main  example  of  metric  cryptosystems  has  a  number  of  interesting  properties  such  as  resistance  to  several  basic  cryptographic  attacks,  efficiency   and  detection  of  transmission  errors.\"},{\"body\":\"Category / Keywords: foundations /\"},{\"body\":\"Date: received 16 May 2005\"},{\"body\":\"Contact author: arkadiy at math uoregon edu\"},{\"body\":\"Available format(s): PDF  | BibTeX Citation\"},{\"body\":\"Note: 28 pages\"},{\"body\":\"Version: 20050529:213209 (All versions of this report)\"},{\"body\":\"Short URL: ia.cr/2005/158\"},{\"body\":\"\"}]'"
      ]
     },
     "execution_count": 10,
     "metadata": {},
     "output_type": "execute_result"
    }
   ],
   "source": [
    "articles['body'][0]"
   ]
  },
  {
   "cell_type": "code",
   "execution_count": 40,
   "metadata": {},
   "outputs": [],
   "source": [
    "def get_keywords(body):\n",
    "    prefix = \"Category / Keywords: \"\n",
    "    for item in body:\n",
    "        if item[\"body\"].startswith(prefix):\n",
    "            return item[\"body\"][len(prefix):].strip()\n",
    "    return \"Not found\""
   ]
  },
  {
   "cell_type": "code",
   "execution_count": 21,
   "metadata": {},
   "outputs": [
    {
     "data": {
      "text/plain": [
       "'foundations /'"
      ]
     },
     "execution_count": 21,
     "metadata": {},
     "output_type": "execute_result"
    }
   ],
   "source": [
    "body = json.loads(articles['body'][0])\n",
    "get_keyword(body)"
   ]
  },
  {
   "cell_type": "code",
   "execution_count": 26,
   "metadata": {},
   "outputs": [],
   "source": [
    "def get_extension(body):\n",
    "    prefix = \"Available format(s):\"\n",
    "    for item in body:\n",
    "        if item[\"body\"].startswith(prefix):\n",
    "            content = item[\"body\"][len(prefix):].lower()\n",
    "            if \"pdf\" in content:\n",
    "                return \"pdf\"\n",
    "            if \"ps\" in content:\n",
    "                return \"ps\"\n",
    "    return \"invalid\" "
   ]
  },
  {
   "cell_type": "code",
   "execution_count": 27,
   "metadata": {},
   "outputs": [
    {
     "data": {
      "text/plain": [
       "'pdf'"
      ]
     },
     "execution_count": 27,
     "metadata": {},
     "output_type": "execute_result"
    }
   ],
   "source": [
    "get_extension(body)"
   ]
  },
  {
   "cell_type": "code",
   "execution_count": 28,
   "metadata": {},
   "outputs": [],
   "source": [
    "def get_abstract(body):\n",
    "    prefix = \"Abstract: \"\n",
    "    abstract = \"\"\n",
    "    for item in body:\n",
    "        if item[\"body\"].startswith(\"Category / Keywords: \"):\n",
    "            break\n",
    "        abstract += item[\"body\"]\n",
    "    return abstract[len(prefix):].strip()"
   ]
  },
  {
   "cell_type": "code",
   "execution_count": 29,
   "metadata": {},
   "outputs": [
    {
     "data": {
      "text/plain": [
       "'In  this  paper  we  propose  a  new  class  of  cryptosystems  that  utilizes  metric  continuity.  The  geometric  cryptosystem  considered  in  this  paper  as  the  main  example  of  metric  cryptosystems  has  a  number  of  interesting  properties  such  as  resistance  to  several  basic  cryptographic  attacks,  efficiency   and  detection  of  transmission  errors.'"
      ]
     },
     "execution_count": 29,
     "metadata": {},
     "output_type": "execute_result"
    }
   ],
   "source": [
    "get_abstract(body)"
   ]
  },
  {
   "cell_type": "code",
   "execution_count": 32,
   "metadata": {},
   "outputs": [
    {
     "data": {
      "text/html": [
       "<div>\n",
       "<style scoped>\n",
       "    .dataframe tbody tr th:only-of-type {\n",
       "        vertical-align: middle;\n",
       "    }\n",
       "\n",
       "    .dataframe tbody tr th {\n",
       "        vertical-align: top;\n",
       "    }\n",
       "\n",
       "    .dataframe thead th {\n",
       "        text-align: right;\n",
       "    }\n",
       "</style>\n",
       "<table border=\"1\" class=\"dataframe\">\n",
       "  <thead>\n",
       "    <tr style=\"text-align: right;\">\n",
       "      <th></th>\n",
       "      <th>article-href</th>\n",
       "      <th>title</th>\n",
       "      <th>authors</th>\n",
       "      <th>body</th>\n",
       "    </tr>\n",
       "  </thead>\n",
       "  <tbody>\n",
       "    <tr>\n",
       "      <th>0</th>\n",
       "      <td>https://eprint.iacr.org/2005/158</td>\n",
       "      <td>Geometric  Cryptosystem</td>\n",
       "      <td>Arkady  Berenstein    and  Leon  Chernyak</td>\n",
       "      <td>[{\"body\":\"Abstract: In  this  paper  we  propo...</td>\n",
       "    </tr>\n",
       "    <tr>\n",
       "      <th>1</th>\n",
       "      <td>https://eprint.iacr.org/2002/100</td>\n",
       "      <td>Encryption-Scheme  Security  in  the  Presence...</td>\n",
       "      <td>J.  Black   and  P.  Rogaway   and  T.  Shrimpton</td>\n",
       "      <td>[{\"body\":\"Abstract: Encryption  that  is  only...</td>\n",
       "    </tr>\n",
       "    <tr>\n",
       "      <th>2</th>\n",
       "      <td>https://eprint.iacr.org/2015/175</td>\n",
       "      <td>Trivial  Nonce-Misusing  Attack  on  Pure  OMD</td>\n",
       "      <td>Tomer  Ashur   and  Bart  Mennink</td>\n",
       "      <td>[{\"body\":\"Abstract: Pure  OMD  is  an  authent...</td>\n",
       "    </tr>\n",
       "    <tr>\n",
       "      <th>3</th>\n",
       "      <td>https://eprint.iacr.org/2009/120</td>\n",
       "      <td>On  the  Complexity  of  Khovratovich  et.al's...</td>\n",
       "      <td>Danilo  Gligoroski   and  Rune  Steinsmo  Ø de...</td>\n",
       "      <td>[{\"body\":\"Abstract: Based  on  the  analysis  ...</td>\n",
       "    </tr>\n",
       "    <tr>\n",
       "      <th>4</th>\n",
       "      <td>https://eprint.iacr.org/2007/119</td>\n",
       "      <td>Rerandomizable  RCCA  Encryption</td>\n",
       "      <td>Manoj  Prabhakaran   and  Mike  Rosulek</td>\n",
       "      <td>[{\"body\":\"Abstract: We  give  the  first  perf...</td>\n",
       "    </tr>\n",
       "  </tbody>\n",
       "</table>\n",
       "</div>"
      ],
      "text/plain": [
       "                       article-href  \\\n",
       "0  https://eprint.iacr.org/2005/158   \n",
       "1  https://eprint.iacr.org/2002/100   \n",
       "2  https://eprint.iacr.org/2015/175   \n",
       "3  https://eprint.iacr.org/2009/120   \n",
       "4  https://eprint.iacr.org/2007/119   \n",
       "\n",
       "                                               title  \\\n",
       "0                            Geometric  Cryptosystem   \n",
       "1  Encryption-Scheme  Security  in  the  Presence...   \n",
       "2     Trivial  Nonce-Misusing  Attack  on  Pure  OMD   \n",
       "3  On  the  Complexity  of  Khovratovich  et.al's...   \n",
       "4                   Rerandomizable  RCCA  Encryption   \n",
       "\n",
       "                                             authors  \\\n",
       "0          Arkady  Berenstein    and  Leon  Chernyak   \n",
       "1  J.  Black   and  P.  Rogaway   and  T.  Shrimpton   \n",
       "2                  Tomer  Ashur   and  Bart  Mennink   \n",
       "3  Danilo  Gligoroski   and  Rune  Steinsmo  Ø de...   \n",
       "4            Manoj  Prabhakaran   and  Mike  Rosulek   \n",
       "\n",
       "                                                body  \n",
       "0  [{\"body\":\"Abstract: In  this  paper  we  propo...  \n",
       "1  [{\"body\":\"Abstract: Encryption  that  is  only...  \n",
       "2  [{\"body\":\"Abstract: Pure  OMD  is  an  authent...  \n",
       "3  [{\"body\":\"Abstract: Based  on  the  analysis  ...  \n",
       "4  [{\"body\":\"Abstract: We  give  the  first  perf...  "
      ]
     },
     "execution_count": 32,
     "metadata": {},
     "output_type": "execute_result"
    }
   ],
   "source": [
    "articles.head()"
   ]
  },
  {
   "cell_type": "code",
   "execution_count": 36,
   "metadata": {},
   "outputs": [],
   "source": [
    "articles['body'] = articles['body'].apply(json.loads)"
   ]
  },
  {
   "cell_type": "code",
   "execution_count": 41,
   "metadata": {},
   "outputs": [],
   "source": [
    "articles['extension'] = articles['body'].apply(get_extension)\n",
    "articles['abstract'] = articles['body'].apply(get_abstract)\n",
    "articles['keywords'] = articles['body'].apply(get_keywords)"
   ]
  },
  {
   "cell_type": "code",
   "execution_count": 43,
   "metadata": {},
   "outputs": [],
   "source": [
    "articles['url'] = articles['article-href'] + \".\" + articles['extension']"
   ]
  },
  {
   "cell_type": "code",
   "execution_count": 46,
   "metadata": {},
   "outputs": [],
   "source": [
    "articles = articles.drop(['article-href', 'body', 'extension'], axis=1)"
   ]
  },
  {
   "cell_type": "code",
   "execution_count": 75,
   "metadata": {},
   "outputs": [],
   "source": [
    "def cleanup_title(title):\n",
    "    try:\n",
    "        title = str(title)\n",
    "        title = title.strip()\n",
    "        title = ' '.join(title.split())\n",
    "        return title\n",
    "    except Exception as e:\n",
    "        print(e)"
   ]
  },
  {
   "cell_type": "code",
   "execution_count": 77,
   "metadata": {},
   "outputs": [],
   "source": [
    "articles['title'] = articles['title'].apply(cleanup_title)"
   ]
  },
  {
   "cell_type": "code",
   "execution_count": 78,
   "metadata": {},
   "outputs": [],
   "source": [
    "articles['authors'] = articles['authors'].apply(str)"
   ]
  },
  {
   "cell_type": "code",
   "execution_count": 80,
   "metadata": {},
   "outputs": [],
   "source": [
    "articles.to_csv('processed_iacr.csv')"
   ]
  },
  {
   "cell_type": "code",
   "execution_count": 81,
   "metadata": {},
   "outputs": [],
   "source": [
    "new_df = pd.read_csv('processed_iacr.csv')"
   ]
  },
  {
   "cell_type": "code",
   "execution_count": 82,
   "metadata": {},
   "outputs": [
    {
     "name": "stdout",
     "output_type": "stream",
     "text": [
      "<class 'pandas.core.frame.DataFrame'>\n",
      "RangeIndex: 15566 entries, 0 to 15565\n",
      "Data columns (total 6 columns):\n",
      " #   Column      Non-Null Count  Dtype \n",
      "---  ------      --------------  ----- \n",
      " 0   Unnamed: 0  15566 non-null  int64 \n",
      " 1   title       15560 non-null  object\n",
      " 2   authors     15561 non-null  object\n",
      " 3   abstract    15563 non-null  object\n",
      " 4   keywords    15566 non-null  object\n",
      " 5   url         15566 non-null  object\n",
      "dtypes: int64(1), object(5)\n",
      "memory usage: 729.8+ KB\n"
     ]
    }
   ],
   "source": [
    "new_df.info()"
   ]
  },
  {
   "cell_type": "code",
   "execution_count": null,
   "metadata": {},
   "outputs": [],
   "source": []
  }
 ],
 "metadata": {
  "kernelspec": {
   "display_name": "Python 3",
   "language": "python",
   "name": "python3"
  },
  "language_info": {
   "codemirror_mode": {
    "name": "ipython",
    "version": 3
   },
   "file_extension": ".py",
   "mimetype": "text/x-python",
   "name": "python",
   "nbconvert_exporter": "python",
   "pygments_lexer": "ipython3",
   "version": "3.8.6"
  }
 },
 "nbformat": 4,
 "nbformat_minor": 4
}
